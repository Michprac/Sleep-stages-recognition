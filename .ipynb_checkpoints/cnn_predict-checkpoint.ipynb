{
 "cells": [
  {
   "cell_type": "code",
   "execution_count": null,
   "id": "edff2da4-c84c-40f2-a43c-6f5759a4137e",
   "metadata": {},
   "outputs": [],
   "source": [
    "import numpy as np\n",
    "import tensorflow as tf\n",
    "from keras.preprocessing import image\n",
    "import fnmatch\n",
    "\n",
    "import import_ipynb\n",
    "import cnn_prepare_dataset"
   ]
  },
  {
   "cell_type": "code",
   "execution_count": null,
   "id": "ff3cd0e7-50b1-4eae-b238-43913ff242d2",
   "metadata": {},
   "outputs": [],
   "source": [
    "def create_hypnograms():\n",
    "    pass"
   ]
  },
  {
   "cell_type": "code",
   "execution_count": null,
   "id": "29e78047-fdb0-4036-a551-8e1ed3112741",
   "metadata": {},
   "outputs": [],
   "source": [
    "def make_predict_create_hypns():\n",
    "    pass"
   ]
  },
  {
   "cell_type": "markdown",
   "id": "053881a6-cf51-4a0d-bb20-f0bd91693894",
   "metadata": {},
   "source": [
    "## EXIT CODE"
   ]
  },
  {
   "cell_type": "code",
   "execution_count": null,
   "id": "048ae64b-e81e-448f-a7f5-cbec7eb18a6a",
   "metadata": {},
   "outputs": [],
   "source": []
  }
 ],
 "metadata": {
  "kernelspec": {
   "display_name": "Python 3 (ipykernel)",
   "language": "python",
   "name": "python3"
  },
  "language_info": {
   "codemirror_mode": {
    "name": "ipython",
    "version": 3
   },
   "file_extension": ".py",
   "mimetype": "text/x-python",
   "name": "python",
   "nbconvert_exporter": "python",
   "pygments_lexer": "ipython3",
   "version": "3.12.1"
  }
 },
 "nbformat": 4,
 "nbformat_minor": 5
}
