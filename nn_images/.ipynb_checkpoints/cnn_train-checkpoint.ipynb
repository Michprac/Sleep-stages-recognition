{
 "cells": [
  {
   "cell_type": "code",
   "execution_count": null,
   "id": "0dcd866d-5cbb-4488-b8f5-07ec54d32adb",
   "metadata": {},
   "outputs": [],
   "source": [
    "import tensorflow as tf\n",
    "from tensorflow.keras.preprocessing.image import ImageDataGenerator\n",
    "import os"
   ]
  },
  {
   "cell_type": "code",
   "execution_count": 2,
   "id": "b74395a4-3925-43ec-8bea-0293d2724050",
   "metadata": {},
   "outputs": [],
   "source": [
    "def preprocessing_func():\n",
    "\n",
    "    train_transform = ImageDataGenerator(rescale=1./255,\n",
    "                                        shear_range=0.2,\n",
    "                                        zoom_range=0.2,\n",
    "                                        horizontal_flip=True)\n",
    "    training_set = train_transform.flow_from_directory('dataset/train',\n",
    "                                                      target_size=(800,800),\n",
    "                                                      color_mode=\"grayscale\",\n",
    "                                                      batch_size=32,\n",
    "                                                      class_mode='categorical')\n",
    "\n",
    "    \n",
    "    validation_transform = ImageDataGenerator(rescale=1./255)\n",
    "    validation_set = validation_transform.flow_from_directory('dataset/valid',\n",
    "                                                      target_size=(800,800),\n",
    "                                                      color_mode=\"grayscale\",\n",
    "                                                      batch_size=32,\n",
    "                                                      class_mode='categorical')\n",
    "\n",
    "\n",
    "    test_transform = ImageDataGenerator(rescale=1./255)\n",
    "    test_set = test_transform.flow_from_directory('dataset/test',\n",
    "                                                      target_size=(800,800),\n",
    "                                                      color_mode=\"grayscale\",\n",
    "                                                      batch_size=32,\n",
    "                                                      class_mode='categorical')\n",
    "\n",
    "    return training_set, validation_set, test_set"
   ]
  },
  {
   "cell_type": "code",
   "execution_count": 3,
   "id": "b012cbd3-1169-4fa7-8e68-834232961ca9",
   "metadata": {},
   "outputs": [],
   "source": [
    "from tensorflow.keras.models import Sequential\n",
    "from tensorflow.keras.layers import Conv2D, MaxPooling2D, Flatten, Dense, Dropout\n",
    "\n",
    "def build_cnn():\n",
    "\n",
    "    cnn = Sequential()\n",
    "\n",
    "    cnn.add(Conv2D(16, (3,3), activation='relu', input_shape=[800, 800, 1]))\n",
    "    cnn.add(MaxPooling2D((2,2)))\n",
    "    \n",
    "    cnn.add(Conv2D(32, (3,3), activation='relu'))\n",
    "    cnn.add(MaxPooling2D((2,2)))\n",
    "\n",
    "    cnn.add(Conv2D(64, (3,3), activation='relu'))\n",
    "    cnn.add(MaxPooling2D((2,2)))\n",
    "\n",
    "    cnn.add(Flatten())\n",
    "\n",
    "    cnn.add(Dense(64, activation='relu'))\n",
    "    cnn.add(Dense(units=6, activation='softmax'))\n",
    "\n",
    "    return cnn"
   ]
  },
  {
   "cell_type": "code",
   "execution_count": 4,
   "id": "ead19f65-08e1-4e5b-85db-52c91ba44b30",
   "metadata": {},
   "outputs": [],
   "source": [
    "def cnn_train_model(cnn, training_set, validation_set):\n",
    "\n",
    "    cnn.compile(optimizer='adam', loss='categorical_crossentropy', metrics=['accuracy'])\n",
    "    cnn.fit(x=training_set, validation_data=validation_set, epochs=5)\n",
    "    if os.path.isdir('models'):\n",
    "        print(f\"Folder 'models' already exists.\")\n",
    "        cnn.save('models/exit_model.keras')\n",
    "    else:\n",
    "        os.mkdir('models')\n",
    "        cnn.save('models/exit_model.keras')"
   ]
  },
  {
   "cell_type": "code",
   "execution_count": 5,
   "id": "019dff05-fb0a-49f0-aa20-7828c811d0e9",
   "metadata": {},
   "outputs": [],
   "source": [
    "def check_for_hid_files():   # for removing \".\" files\n",
    "\n",
    "    print(\"======== Checking on hidden '.' files started. ========\")\n",
    "\n",
    "    datasets_for_check = [\"dataset\", \"dataset_predict\"]\n",
    "\n",
    "    for dataset in datasets_for_check:\n",
    "        if not os.path.isdir(dataset):\n",
    "            print(f\"Directory '{dataset}' doesn't exist.\")\n",
    "            continue\n",
    "\n",
    "        for folder in os.listdir(dataset):\n",
    "            dir_1 = dataset + \"/\" + folder\n",
    "            if folder[0] == \".\":\n",
    "                os.remove(dir_1)\n",
    "\n",
    "            for folder_el in os.listdir(dir_1):\n",
    "                dir_2 = dir_1 + \"/\" + folder_el\n",
    "                if folder_el[0] == \".\":\n",
    "                    os.remove(dir_2)\n",
    "                if dataset == \"dataset\":\n",
    "                    for element in os.listdir(dir_2):\n",
    "                        if element[0] == \".\":\n",
    "                            dir_rem = dir_2 + \"/\" + element\n",
    "                            os.remove(dir_rem)\n",
    "\n",
    "        if os.path.isdir(dataset):\n",
    "            print(f\"======== Dataset '{dataset}' has been checked for hidden files. ========\")"
   ]
  },
  {
   "cell_type": "markdown",
   "id": "16b04615-1f43-41a3-8dc7-15fd99126e64",
   "metadata": {},
   "source": [
    "# EXIT CODE"
   ]
  },
  {
   "cell_type": "markdown",
   "id": "a3b8588e-d3d7-44c5-a25e-0e6e11356647",
   "metadata": {},
   "source": [
    "## CREATING MODEL"
   ]
  },
  {
   "cell_type": "code",
   "execution_count": null,
   "id": "e5dddfe5-6499-4c61-860a-e80839093407",
   "metadata": {},
   "outputs": [],
   "source": [
    "check_for_hid_files()\n",
    "training_set, validation_set, test_set = preprocessing_func()\n",
    "cnn = build_cnn()\n",
    "cnn_train_model(cnn, training_set, validation_set)"
   ]
  },
  {
   "cell_type": "code",
   "execution_count": null,
   "id": "ebf6f0e5-c57f-423e-be4c-2b3916081de2",
   "metadata": {},
   "outputs": [],
   "source": [
    "loss_value, acc_value = cnn.evaluate(test_set)\n",
    "\n",
    "print(f\"Loss value: {loss_value}\")\n",
    "print(f\"Accuracy value: {acc_value}\")"
   ]
  }
 ],
 "metadata": {
  "kernelspec": {
   "display_name": "Python 3 (ipykernel)",
   "language": "python",
   "name": "python3"
  },
  "language_info": {
   "codemirror_mode": {
    "name": "ipython",
    "version": 3
   },
   "file_extension": ".py",
   "mimetype": "text/x-python",
   "name": "python",
   "nbconvert_exporter": "python",
   "pygments_lexer": "ipython3",
   "version": "3.12.1"
  }
 },
 "nbformat": 4,
 "nbformat_minor": 5
}
