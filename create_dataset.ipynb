{
 "cells": [
  {
   "cell_type": "code",
   "execution_count": 1,
   "id": "60102b93-8e58-4d8a-ab48-15f3014bcc7c",
   "metadata": {},
   "outputs": [],
   "source": [
    "import numpy as np\n",
    "import matplotlib.pyplot as plt\n",
    "import pandas as pd\n",
    "import mne\n",
    "import os\n",
    "import math"
   ]
  },
  {
   "cell_type": "code",
   "execution_count": 3,
   "id": "309c186f-d0d9-4208-93a4-eab3c7ae4dae",
   "metadata": {},
   "outputs": [],
   "source": [
    "def file_keeper(psg_file, hypnogram_file):\n",
    "    data = mne.io.read_raw_edf(psg_file, stim_channel=\"Event marker\", infer_types=True, preload=True)\n",
    "    annotations = mne.read_annotations(hypnogram_file)\n",
    "    return data, annotations"
   ]
  },
  {
   "cell_type": "code",
   "execution_count": 5,
   "id": "d198dc7e-561e-4c01-bb28-39dc8971bd06",
   "metadata": {},
   "outputs": [],
   "source": [
    "def all_sleep_stages(annotations):\n",
    "    sleep_stages = []\n",
    "    for i in annotations:\n",
    "        if i.get('desription') in sleep_stages:\n",
    "            pass\n",
    "        else:\n",
    "            sleep_stages.append(i.get('description'))\n",
    "    return sleep_stages"
   ]
  },
  {
   "cell_type": "code",
   "execution_count": null,
   "id": "61661e5b-ab01-4baf-955a-702b1ae6d0cd",
   "metadata": {},
   "outputs": [],
   "source": []
  }
 ],
 "metadata": {
  "kernelspec": {
   "display_name": "Python 3 (ipykernel)",
   "language": "python",
   "name": "python3"
  },
  "language_info": {
   "codemirror_mode": {
    "name": "ipython",
    "version": 3
   },
   "file_extension": ".py",
   "mimetype": "text/x-python",
   "name": "python",
   "nbconvert_exporter": "python",
   "pygments_lexer": "ipython3",
   "version": "3.12.1"
  }
 },
 "nbformat": 4,
 "nbformat_minor": 5
}
