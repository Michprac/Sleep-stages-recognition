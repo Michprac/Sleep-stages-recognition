{
 "cells": [
  {
   "cell_type": "code",
   "execution_count": null,
   "id": "b1ffe84a-ba6b-44ce-9dfd-4783c2ef3b23",
   "metadata": {},
   "outputs": [],
   "source": [
    "from cnn_prepare_dataset import (create_directories,\n",
    "                                 find_min_num_of_file,\n",
    "                                 dataset_create,\n",
    "                                 create_predict_dataset)\n",
    "from cnn_train import (check_for_hid_files,\n",
    "                       preprocessing_func,\n",
    "                       build_cnn,\n",
    "                       cnn_train_model)\n",
    "\n",
    "from cnn_predict import make_predict_create_hypns"
   ]
  },
  {
   "cell_type": "markdown",
   "id": "a9ab4b4f-833f-45fc-b5c5-7e2b36c296bb",
   "metadata": {},
   "source": [
    "## CREATING DATASETS"
   ]
  },
  {
   "cell_type": "code",
   "execution_count": null,
   "id": "ed4f1250-6209-4959-833b-93ba329ba444",
   "metadata": {},
   "outputs": [],
   "source": [
    "create_directories()\n",
    "\n",
    "print(\"\\n\\n======== CREATING TRAINING SIGNALS ========\\n\\n\")\n",
    "dir = \"edf_files/sleep-cassette\"\n",
    "optimal_number_images, max_number_images = find_min_num_of_file(dir)\n",
    "dataset_create(dir, optimal_number_images, \"train\")\n",
    "\n",
    "print(\"\\n\\n======== CREATING TEST SIGNALS ========\\n\\n\")\n",
    "dir = \"edf_files/x_test_y_test\"\n",
    "optimal_number_images, max_number_images = find_min_num_of_file(dir)\n",
    "dataset_create(dir, optimal_number_images, \"test\")\n",
    "\n",
    "\n",
    "print(\"\\n\\n======== CREATING VALIDATION SIGNALS ========\\n\\n\")\n",
    "dir = \"edf_files/x_valid_y_valid\"\n",
    "optimal_number_images, max_number_images = find_min_num_of_file(dir)\n",
    "dataset_create(dir, optimal_number_images, \"valid\")"
   ]
  },
  {
   "cell_type": "markdown",
   "id": "b8bc81c2-18a9-41a3-95fa-78bcae7b8a06",
   "metadata": {},
   "source": [
    "## CREATING PREDICTING DATASET"
   ]
  },
  {
   "cell_type": "code",
   "execution_count": null,
   "id": "d41d7f69-3e54-445f-afc5-828cd9249ca7",
   "metadata": {},
   "outputs": [],
   "source": [
    "files_directory = \"edf_files/x_test_y_test\"\n",
    "create_predict_dataset(files_directory)"
   ]
  },
  {
   "cell_type": "markdown",
   "id": "d5d0b9ff-9e6c-4d2d-bee1-50e813731aa7",
   "metadata": {},
   "source": [
    "## CREATING MODEL"
   ]
  },
  {
   "cell_type": "code",
   "execution_count": null,
   "id": "339d92a5-496e-49a7-9f88-17b5929d7d5b",
   "metadata": {},
   "outputs": [],
   "source": [
    "check_for_hid_files()\n",
    "training_set, validation_set, test_set = preprocessing_func()\n",
    "cnn = build_cnn()\n",
    "cnn_train_model(cnn, training_set, validation_set)"
   ]
  },
  {
   "cell_type": "code",
   "execution_count": null,
   "id": "3e0d8ddd-bbb7-492d-921e-03018ff13553",
   "metadata": {},
   "outputs": [],
   "source": [
    "loss_value, acc_value = cnn.evaluate(test_set)\n",
    "\n",
    "print(f\"Loss value: {loss_value}\")\n",
    "print(f\"Accuracy value: {acc_value}\")"
   ]
  },
  {
   "cell_type": "markdown",
   "id": "b8f8072f-5047-4f51-ba2f-6c947d99e4a2",
   "metadata": {},
   "source": [
    "## PREDICTING"
   ]
  },
  {
   "cell_type": "code",
   "execution_count": null,
   "id": "52bf4d7d-26f3-4879-b6e3-e013b2fbe8ac",
   "metadata": {},
   "outputs": [],
   "source": [
    "dir_edf_files_predict = \"edf_files/x_test_y_test\"\n",
    "model_path = 'models/exit_model.keras'\n",
    "make_predict_create_hypns(_, dir_edf_files_predict, training_set)"
   ]
  }
 ],
 "metadata": {
  "kernelspec": {
   "display_name": "Python 3 (ipykernel)",
   "language": "python",
   "name": "python3"
  },
  "language_info": {
   "codemirror_mode": {
    "name": "ipython",
    "version": 3
   },
   "file_extension": ".py",
   "mimetype": "text/x-python",
   "name": "python",
   "nbconvert_exporter": "python",
   "pygments_lexer": "ipython3",
   "version": "3.12.1"
  }
 },
 "nbformat": 4,
 "nbformat_minor": 5
}
