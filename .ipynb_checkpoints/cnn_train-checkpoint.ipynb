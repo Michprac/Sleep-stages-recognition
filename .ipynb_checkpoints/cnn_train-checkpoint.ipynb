{
 "cells": [
  {
   "cell_type": "code",
   "execution_count": null,
   "id": "0dcd866d-5cbb-4488-b8f5-07ec54d32adb",
   "metadata": {},
   "outputs": [],
   "source": [
    "import tensorflow as tf\n",
    "from tensorflow.keras.preprocessing.image import ImageDataGenerator\n",
    "import os"
   ]
  },
  {
   "cell_type": "code",
   "execution_count": 2,
   "id": "b74395a4-3925-43ec-8bea-0293d2724050",
   "metadata": {},
   "outputs": [],
   "source": [
    "def preprocessing_func():\n",
    "    pass"
   ]
  },
  {
   "cell_type": "code",
   "execution_count": 3,
   "id": "b012cbd3-1169-4fa7-8e68-834232961ca9",
   "metadata": {},
   "outputs": [],
   "source": [
    "def build_cnn():\n",
    "    pass"
   ]
  },
  {
   "cell_type": "code",
   "execution_count": 4,
   "id": "ead19f65-08e1-4e5b-85db-52c91ba44b30",
   "metadata": {},
   "outputs": [],
   "source": [
    "def cnn_train_model():\n",
    "    pass"
   ]
  },
  {
   "cell_type": "code",
   "execution_count": 5,
   "id": "019dff05-fb0a-49f0-aa20-7828c811d0e9",
   "metadata": {},
   "outputs": [],
   "source": [
    "def check_for_hid_files(): # for removing \".\" files\n",
    "    pass"
   ]
  },
  {
   "cell_type": "markdown",
   "id": "16b04615-1f43-41a3-8dc7-15fd99126e64",
   "metadata": {},
   "source": [
    "## EXIT CODE"
   ]
  },
  {
   "cell_type": "code",
   "execution_count": null,
   "id": "e5dddfe5-6499-4c61-860a-e80839093407",
   "metadata": {},
   "outputs": [],
   "source": []
  }
 ],
 "metadata": {
  "kernelspec": {
   "display_name": "Python 3 (ipykernel)",
   "language": "python",
   "name": "python3"
  },
  "language_info": {
   "codemirror_mode": {
    "name": "ipython",
    "version": 3
   },
   "file_extension": ".py",
   "mimetype": "text/x-python",
   "name": "python",
   "nbconvert_exporter": "python",
   "pygments_lexer": "ipython3",
   "version": "3.12.1"
  }
 },
 "nbformat": 4,
 "nbformat_minor": 5
}
