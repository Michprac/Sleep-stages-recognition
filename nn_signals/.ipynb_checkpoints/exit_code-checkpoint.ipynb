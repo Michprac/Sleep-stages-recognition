{
 "cells": [
  {
   "cell_type": "markdown",
   "id": "b8e515c4-651b-40d8-9ba0-3cb21ae86434",
   "metadata": {},
   "source": [
    "## TRAINING DATASET PREPARATION"
   ]
  },
  {
   "cell_type": "code",
   "execution_count": null,
   "id": "13c81ce1-7d9a-4be8-9b99-815d838de7fa",
   "metadata": {},
   "outputs": [],
   "source": [
    "print(\"\\n\\n======== CREATING TRAINING SIGNALS ========\\n\\n\")\n",
    "dir = \"edf_files/sleep-cassette\"\n",
    "features_train, labels_train = dataset_create(dir)\n",
    "\n",
    "print(\"\\n\\n======== CREATING TEST SIGNALS ========\\n\\n\")\n",
    "dir = \"edf_files/x_test_y_test\"\n",
    "features_test, labels_test = dataset_create(dir)\n",
    "\n",
    "print(\"\\n\\n======== CREATING VALIDATION SIGNALS ========\\n\\n\")\n",
    "dir = \"edf_files/x_valid_y_valid\"\n",
    "features_val, labels_val = dataset_create(dir)"
   ]
  },
  {
   "cell_type": "markdown",
   "id": "db867740-a324-4279-b70f-9abbc319dd04",
   "metadata": {},
   "source": [
    "## TRAINING MODEL"
   ]
  },
  {
   "cell_type": "code",
   "execution_count": null,
   "id": "1ed1c59a-e1f3-4c38-a6ee-022a92456343",
   "metadata": {},
   "outputs": [],
   "source": [
    "model = train_model_mlp(features_train, labels_train, features_test, labels_test, features_val, labels_val)"
   ]
  },
  {
   "cell_type": "markdown",
   "id": "05f6bf04-0a7c-42c7-ae17-d4ea494eaa80",
   "metadata": {},
   "source": [
    "## PREDICTION"
   ]
  },
  {
   "cell_type": "code",
   "execution_count": null,
   "id": "d7337b5c-3ad4-4241-bad9-08685a951dd1",
   "metadata": {},
   "outputs": [],
   "source": [
    "dir_edf_files_predict = \"edf_files/x_test_y_test\"\n",
    "make_predict_create_hypns(model, dir_edf_files_predict)"
   ]
  }
 ],
 "metadata": {
  "kernelspec": {
   "display_name": "Python 3 (ipykernel)",
   "language": "python",
   "name": "python3"
  },
  "language_info": {
   "codemirror_mode": {
    "name": "ipython",
    "version": 3
   },
   "file_extension": ".py",
   "mimetype": "text/x-python",
   "name": "python",
   "nbconvert_exporter": "python",
   "pygments_lexer": "ipython3",
   "version": "3.12.1"
  }
 },
 "nbformat": 4,
 "nbformat_minor": 5
}
