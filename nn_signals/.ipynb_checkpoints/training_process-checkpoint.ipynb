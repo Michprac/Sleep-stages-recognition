{
 "cells": [
  {
   "cell_type": "code",
   "execution_count": 1,
   "id": "bed7d35b-0a6c-454c-a7fa-7f8abc7ca6a5",
   "metadata": {},
   "outputs": [],
   "source": [
    "from keras.models import Sequential\n",
    "from keras.layers import Dense\n",
    "\n",
    "from sklearn.metrics import confusion_matrix\n",
    "import seaborn as sn\n",
    "import pandas as pd\n",
    "import matplotlib.pyplot as plt"
   ]
  },
  {
   "cell_type": "code",
   "execution_count": 2,
   "id": "5fe417b7-6dc2-4888-abb1-abc7370a619c",
   "metadata": {},
   "outputs": [],
   "source": [
    "def train_model_mlp(x_train, y_train, x_test, y_test, x_val, y_val):\n",
    "\n",
    "    print(f\"Train dataset shape: X {x_train.shape}, Y {y_train.shape}\")\n",
    "    print(f\"Test dataset shape: X {x_test.shape}, Y {y_test.shape}\")\n",
    "    print(f\"Validation dataset shape: X {x_val.shape}, Y {y_val.shape}\")\n",
    "\n",
    "    model = Sequential()\n",
    "    model.add(Dense(256, input_shape=(x_train.shape[1],)))\n",
    "    model.add(Dense(128))\n",
    "    model.add(Dense(64))\n",
    "    model.add(Dense(6, activation='softmax'))\n",
    "    \n",
    "    model.compile(loss='sparse_categorical_crossentropy', optimizer='adam', metrics=['accuracy'])\n",
    "\n",
    "    model.fit(x_train, y_train, epochs=30, batch_size=64, validation_data=(x_val, y_val))\n",
    "\n",
    "    loss_value, acc_value = model.evaluate(x_test, y_test)\n",
    "\n",
    "    print(f\"Loss value: {loss_value}\")\n",
    "    print(f\"Accuracy value: {acc_value}\")\n",
    "    \n",
    "    print(\"\\nModel has been trained.\")\n",
    "    model.save('model_mlp_end.keras')\n",
    "\n",
    "    return model"
   ]
  },
  {
   "cell_type": "code",
   "execution_count": null,
   "id": "1157977c-b567-411a-84f8-3826bd4cddd2",
   "metadata": {},
   "outputs": [],
   "source": [
    "def create_confusion_matrix(true_array, prediction_array, path_save_img=''):\n",
    "    labels_stages = [1, 2, 3, 4, 5, 6]\n",
    "    result = confusion_matrix(true_array, prediction_array, labels=labels_stages)\n",
    "    print(f\"\\nConfusion matrix:\\n{result}\\n\")\n",
    "\n",
    "    table = pd.DataFrame(result, range(len(labels_stages)), range(len(labels_stages)))\n",
    "    fig = plt.figure()\n",
    "    map = sn.heatmap(table, annot=True, fmt='g')\n",
    "\n",
    "    if path_save_img:\n",
    "        plt.savefig(path_save_img)\n",
    "    else:\n",
    "        plt.show()\n",
    "    plt.close(fig)"
   ]
  }
 ],
 "metadata": {
  "kernelspec": {
   "display_name": "Python 3 (ipykernel)",
   "language": "python",
   "name": "python3"
  },
  "language_info": {
   "codemirror_mode": {
    "name": "ipython",
    "version": 3
   },
   "file_extension": ".py",
   "mimetype": "text/x-python",
   "name": "python",
   "nbconvert_exporter": "python",
   "pygments_lexer": "ipython3",
   "version": "3.12.1"
  }
 },
 "nbformat": 4,
 "nbformat_minor": 5
}
