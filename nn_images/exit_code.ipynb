{
 "cells": [
  {
   "cell_type": "code",
   "execution_count": null,
   "id": "b1ffe84a-ba6b-44ce-9dfd-4783c2ef3b23",
   "metadata": {},
   "outputs": [],
   "source": [
    "from cnn_prepare_dataset import (find_min_num_of_file,\n",
    "                                 dataset_create,\n",
    "                                 split_dataset,\n",
    "                                 create_predict_dataset)\n",
    "from cnn_train import (check_for_hid_files,\n",
    "                       preprocessing_func,\n",
    "                       build_cnn,\n",
    "                       cnn_train_model)\n",
    "\n",
    "from cnn_predict import make_predict_create_hypns"
   ]
  },
  {
   "cell_type": "code",
   "execution_count": null,
   "id": "ed4f1250-6209-4959-833b-93ba329ba444",
   "metadata": {},
   "outputs": [],
   "source": [
    "dir = \"edf_files/sleep-cassette\"\n",
    "\n",
    "# Creating training dataset\n",
    "optimal_number_images, max_number_images = find_min_num_of_file(dir)\n",
    "dataset_create(dir, optimal_number_images)\n",
    "dir_dataset = \"dataset\"\n",
    "split_dataset(dir_dataset)\n"
   ]
  },
  {
   "cell_type": "code",
   "execution_count": null,
   "id": "d41d7f69-3e54-445f-afc5-828cd9249ca7",
   "metadata": {},
   "outputs": [],
   "source": [
    "# Creating predicting dataset\n",
    "files_directory = \"edf_files/SLEEP_CASSETE_PREDICTION\"\n",
    "create_predict_dataset(files_directory)"
   ]
  },
  {
   "cell_type": "code",
   "execution_count": null,
   "id": "339d92a5-496e-49a7-9f88-17b5929d7d5b",
   "metadata": {},
   "outputs": [],
   "source": [
    "# ======== Training CNN model ========\n",
    "check_for_hid_files()\n",
    "training_set, test_set = preprocessing_func()\n",
    "cnn = build_cnn()\n",
    "cnn_train_model(cnn, training_set, test_set)"
   ]
  },
  {
   "cell_type": "code",
   "execution_count": null,
   "id": "52bf4d7d-26f3-4879-b6e3-e013b2fbe8ac",
   "metadata": {},
   "outputs": [],
   "source": [
    "# ======== For predicting results ========\n",
    "dir_edf_files_predict = \"edf_files/SLEEP_CASSETE_PREDICTION\"\n",
    "model_path = 'models/exit_model.keras'\n",
    "make_predict_create_hypns(model_path, dir_edf_files_predict, training_set)"
   ]
  }
 ],
 "metadata": {
  "kernelspec": {
   "display_name": "Python 3 (ipykernel)",
   "language": "python",
   "name": "python3"
  },
  "language_info": {
   "codemirror_mode": {
    "name": "ipython",
    "version": 3
   },
   "file_extension": ".py",
   "mimetype": "text/x-python",
   "name": "python",
   "nbconvert_exporter": "python",
   "pygments_lexer": "ipython3",
   "version": "3.12.1"
  }
 },
 "nbformat": 4,
 "nbformat_minor": 5
}
